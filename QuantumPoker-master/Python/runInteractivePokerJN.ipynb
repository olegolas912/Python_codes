{
 "cells": [
  {
   "cell_type": "markdown",
   "metadata": {
    "id": "k0x5rHccukIy"
   },
   "source": [
    "# Quantum poker\n",
    "This program aims to serve as an introduction to how quantum logic gates operate on qubits, and to basic properties of entanglement and superposition.\n",
    "\n",
    "---\n",
    "\n",
    "<center><a href=\"https://colab.research.google.com/github/sintefmath/QuantumPoker/blob/master/Python/runInteractivePokerJN.ipynb\" target=\"_parent\"><img src=\"https://colab.research.google.com/assets/colab-badge.svg\" alt=\"Open In Colab\"/></a></center>\n",
    "\n"
   ]
  },
  {
   "cell_type": "code",
   "execution_count": null,
   "metadata": {
    "id": "lT3gb4a0uuSk"
   },
   "outputs": [],
   "source": [
    "import sys\n",
    "IN_COLAB = 'google.colab' in sys.modules\n",
    "\n",
    "if IN_COLAB:\n",
    "  from google.colab import output\n",
    "  output.enable_custom_widget_manager()\n",
    "  !pip install qiskit\n",
    "  !pip install ipympl\n",
    "  !rm -rf /content/QuantumPoker/\n",
    "  !git clone https://github.com/sintefmath/QuantumPoker\n",
    "  sys.path.append('/content/QuantumPoker/Python')\n",
    "  sys.path.append('/content/QuantumPoker')\n",
    "  get_ipython().magic('matplotlib ipympl')\n",
    "else:\n",
    "  get_ipython().magic('matplotlib notebook')"
   ]
  },
  {
   "cell_type": "markdown",
   "metadata": {
    "id": "LNUDRSquukI7"
   },
   "source": [
    "## Intro\n",
    "In this quantum version of poker, the players are initially dealt three quantum gates that can be applied to qubits at the end of every game. Each player has their own set of qubits, but all the sets start in the same initial state. The goal is to measure as many $1$’s as possible after applying your gates to the qubits. Therefore, any player who has not folded by the end of a game should apply their gates in such a way that each qubit has a high probability of being in the state $\\vert 1\\rangle$."
   ]
  },
  {
   "cell_type": "markdown",
   "metadata": {
    "id": "nG1Pr1a3ukI9"
   },
   "source": [
    "## Playing the game\n",
    "First we need to import the required functions and set up the starting conditions for the game."
   ]
  },
  {
   "cell_type": "code",
   "execution_count": null,
   "metadata": {
    "id": "UGzMvr3GukI-"
   },
   "outputs": [],
   "source": [
    "from os.path import dirname, abspath\n",
    "import sys\n",
    "sys.path.append(dirname(abspath('')))\n",
    "from PokerGame import PokerGame\n",
    "import matplotlib.pyplot as plt\n",
    "from numpy import array, count_nonzero\n",
    "\n",
    "dealer = 0\n",
    "nPlayers = 3\n",
    "gameHasRun = False\n",
    "deckOfGates = {\"H\": nPlayers, \"X\": nPlayers, \"ZH\": nPlayers, \"CX\": nPlayers}\n",
    "money = array([100 for i in range(nPlayers)])\n",
    "names = [\"James\", \"Lilly\", \"Harry\"]"
   ]
  },
  {
   "cell_type": "markdown",
   "metadata": {
    "id": "a2ONh02SukJC"
   },
   "source": [
    "Then we can create the board. Here you see there are three players, James, Lilly, and Harry. In this round James is small blind and Lilly is big blind, so they have already put money on the table. To the right we can see the gates available in the \"deck\" that the players have been dealt from. For now there are no qubits on the table, as the first three are shown only after the first round of betting. A player can choose to either check/call or fold by pressing the corresponding button or raise by entering a self-determined amount into the text box and hitting the enter button, during their turn. For a more detailed description, please read a guide on poker rules (Texas hold 'em).\n",
    "\n",
    "## Running the game\n",
    "After each round of Poker, rerun the cell below to start a new round)"
   ]
  },
  {
   "cell_type": "code",
   "execution_count": null,
   "metadata": {
    "id": "nY2W34-BukJD"
   },
   "outputs": [],
   "source": [
    "if not count_nonzero(money==0) == (nPlayers-1):\n",
    "    if gameHasRun:\n",
    "        dealer = (dealer + 1) % nPlayers\n",
    "        if 0 in money:\n",
    "            toDelete=nonzero(money==0)[0]\n",
    "            for i in flip(toDelete):\n",
    "                if i < dealer:\n",
    "                    dealer -= 1\n",
    "            names = delete(names, nonzero(money==0)[0])\n",
    "            money = delete(money, nonzero(money==0)[0])\n",
    "            nPlayers = money.shape[0]\n",
    "    gameHasRun = True\n",
    "    pokerGame = PokerGame(deckOfGates, nPlayers, money, names = names, smallBlind=5, smallBlindPlayer=dealer,\n",
    "                          enableEntanglement=True)"
   ]
  }
 ],
 "metadata": {
  "colab": {
   "name": "runInteractivePokerJN.ipynb",
   "provenance": []
  },
  "kernelspec": {
   "display_name": "Python 3",
   "language": "python",
   "name": "python3"
  },
  "language_info": {
   "codemirror_mode": {
    "name": "ipython",
    "version": 3
   },
   "file_extension": ".py",
   "mimetype": "text/x-python",
   "name": "python",
   "nbconvert_exporter": "python",
   "pygments_lexer": "ipython3",
   "version": "3.7.3"
  }
 },
 "nbformat": 4,
 "nbformat_minor": 1
}
