{
 "cells": [
  {
   "cell_type": "code",
   "execution_count": 1,
   "metadata": {},
   "outputs": [
    {
     "ename": "ImportError",
     "evalue": "cannot import name 'Aer' from 'qiskit' (c:\\ProgramData\\anaconda3\\Lib\\site-packages\\qiskit\\__init__.py)",
     "output_type": "error",
     "traceback": [
      "\u001b[1;31m---------------------------------------------------------------------------\u001b[0m",
      "\u001b[1;31mImportError\u001b[0m                               Traceback (most recent call last)",
      "Cell \u001b[1;32mIn[1], line 1\u001b[0m\n\u001b[1;32m----> 1\u001b[0m \u001b[38;5;28;01mfrom\u001b[39;00m \u001b[38;5;21;01mqiskit\u001b[39;00m \u001b[38;5;28;01mimport\u001b[39;00m QuantumCircuit, Aer, execute\n\u001b[0;32m      2\u001b[0m \u001b[38;5;28;01mimport\u001b[39;00m \u001b[38;5;21;01mmatplotlib\u001b[39;00m\u001b[38;5;21;01m.\u001b[39;00m\u001b[38;5;21;01mpyplot\u001b[39;00m \u001b[38;5;28;01mas\u001b[39;00m \u001b[38;5;21;01mplt\u001b[39;00m\n\u001b[0;32m      4\u001b[0m \u001b[38;5;66;03m# 1. Создаем квантовую схему с 1 кубитом и 1 классическим битом\u001b[39;00m\n",
      "\u001b[1;31mImportError\u001b[0m: cannot import name 'Aer' from 'qiskit' (c:\\ProgramData\\anaconda3\\Lib\\site-packages\\qiskit\\__init__.py)"
     ]
    }
   ],
   "source": [
    "from qiskit import QuantumCircuit, Aer, execute\n",
    "import matplotlib.pyplot as plt\n",
    "\n",
    "# 1. Создаем квантовую схему с 1 кубитом и 1 классическим битом\n",
    "qc = QuantumCircuit(1, 1)\n",
    "\n",
    "# 2. Применяем оператор Адамара (H) к кубиту\n",
    "qc.h(0)\n",
    "\n",
    "# 3. Измеряем кубит\n",
    "qc.measure(0, 0)\n",
    "\n",
    "# 4. Запускаем симуляцию\n",
    "simulator = Aer.get_backend('qasm_simulator')\n",
    "job = execute(qc, simulator, shots=1000)\n",
    "result = job.result()\n",
    "counts = result.get_counts()\n",
    "\n",
    "# 5. Визуализируем результат измерений\n",
    "plt.bar(counts.keys(), counts.values(), color='blue')\n",
    "plt.xlabel(\"Измеренное значение\")\n",
    "plt.ylabel(\"Количество\")\n",
    "plt.title(\"Распределение вероятностей после применения H-гейта\")\n",
    "plt.show()\n"
   ]
  },
  {
   "cell_type": "code",
   "execution_count": null,
   "metadata": {},
   "outputs": [],
   "source": []
  }
 ],
 "metadata": {
  "kernelspec": {
   "display_name": "base",
   "language": "python",
   "name": "python3"
  },
  "language_info": {
   "codemirror_mode": {
    "name": "ipython",
    "version": 3
   },
   "file_extension": ".py",
   "mimetype": "text/x-python",
   "name": "python",
   "nbconvert_exporter": "python",
   "pygments_lexer": "ipython3",
   "version": "3.12.3"
  }
 },
 "nbformat": 4,
 "nbformat_minor": 2
}
