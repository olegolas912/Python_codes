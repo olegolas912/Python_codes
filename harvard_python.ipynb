{
 "cells": [
  {
   "cell_type": "markdown",
   "metadata": {},
   "source": [
    "## Problem set 0"
   ]
  },
  {
   "cell_type": "code",
   "execution_count": 2,
   "metadata": {},
   "outputs": [
    {
     "name": "stdout",
     "output_type": "stream",
     "text": [
      "lol\n"
     ]
    }
   ],
   "source": [
    "#Indoor\n",
    "text = input()\n",
    "print(text.lower())\n"
   ]
  },
  {
   "cell_type": "code",
   "execution_count": 3,
   "metadata": {},
   "outputs": [
    {
     "name": "stdout",
     "output_type": "stream",
     "text": [
      "ldsa...dsadas\n"
     ]
    }
   ],
   "source": [
    "#Playback\n",
    "text = input()\n",
    "text_replace = text.replace(' ', '...')\n",
    "print(text_replace)\n"
   ]
  },
  {
   "cell_type": "code",
   "execution_count": null,
   "metadata": {},
   "outputs": [
    {
     "name": "stdout",
     "output_type": "stream",
     "text": [
      "hello\n"
     ]
    }
   ],
   "source": [
    "#Faces\n",
    "def main():\n",
    "    text = input()\n",
    "    print(convert(text))\n",
    "\n",
    "def convert(text):\n",
    "    convert_text1 = text.replace(\":)\", \"🙂\")\n",
    "    convert_text2 = convert_text1.replace(':(', '🙁')\n",
    "    return convert_text2\n",
    "\n",
    "main()\n"
   ]
  },
  {
   "cell_type": "code",
   "execution_count": null,
   "metadata": {},
   "outputs": [
    {
     "name": "stdout",
     "output_type": "stream",
     "text": [
      "1080000000000000000\n"
     ]
    }
   ],
   "source": [
    "#Einstein\n",
    "def main():\n",
    "    mass = int(input('m: '))\n",
    "    print(convert(mass))\n",
    "\n",
    "\n",
    "def convert(mass):\n",
    "    return mass * 300000000 ** 2\n",
    "\n",
    "\n",
    "main()\n"
   ]
  },
  {
   "cell_type": "code",
   "execution_count": null,
   "metadata": {},
   "outputs": [
    {
     "name": "stdout",
     "output_type": "stream",
     "text": [
      "Leave $1.44\n"
     ]
    }
   ],
   "source": [
    "#Tip\n",
    "def main():\n",
    "    dollars = dollars_to_float(input(\"How much was the meal? \"))\n",
    "    percent = percent_to_float(input(\"What percentage would you like to tip? \"))\n",
    "    tip = dollars * percent\n",
    "    print(f\"Leave ${tip:.2f}\")\n",
    "\n",
    "\n",
    "def dollars_to_float(d):\n",
    "    d_t = d.replace(\"$\", \"\")\n",
    "    return float(d_t)\n",
    "\n",
    "\n",
    "def percent_to_float(p):\n",
    "    p_t = p.replace(\"%\", \"\")\n",
    "    return float(p_t)/100\n",
    "\n",
    "\n",
    "main()\n"
   ]
  },
  {
   "cell_type": "markdown",
   "metadata": {},
   "source": [
    "## Problem set 1"
   ]
  },
  {
   "cell_type": "code",
   "execution_count": 4,
   "metadata": {},
   "outputs": [
    {
     "name": "stdout",
     "output_type": "stream",
     "text": [
      "Yes\n"
     ]
    }
   ],
   "source": [
    "#Deep\n",
    "answer = input('What is the Answer to the Great Question of Life, the Universe, and Everything?')\n",
    "answer_lower = answer.lower()\n",
    "answer_split = answer_lower.split()\n",
    "\n",
    "\n",
    "if answer_split == ['42'] or answer_split == ['forty', 'two'] or answer_split == ['forty-two']:\n",
    "    print ('Yes')\n",
    "else:\n",
    "    print ('No')\n"
   ]
  },
  {
   "cell_type": "code",
   "execution_count": 5,
   "metadata": {},
   "outputs": [
    {
     "name": "stdout",
     "output_type": "stream",
     "text": [
      "$100\n"
     ]
    }
   ],
   "source": [
    "#Bank\n",
    "text = input(\"Greeting: \").strip()\n",
    "check_1 = text.find(\"Hello\", 0, 6)\n",
    "check_2 = text.find(\"H\", 0, 1)\n",
    "\n",
    "\n",
    "if check_2 == 0:\n",
    "    if check_1 == 0:\n",
    "        print ('$0')\n",
    "    else:\n",
    "        print ('$20')\n",
    "else:\n",
    "    print ('$100')\n"
   ]
  },
  {
   "cell_type": "code",
   "execution_count": 9,
   "metadata": {},
   "outputs": [
    {
     "name": "stdout",
     "output_type": "stream",
     "text": [
      "text/plain\n"
     ]
    }
   ],
   "source": [
    "#Extensions\n",
    "input_text = input('input text ').strip().lower().split('.')\n",
    "extension = input_text[len(input_text) - 1]\n",
    "\n",
    "match extension:\n",
    "    case 'gif':\n",
    "        print('image/gif')\n",
    "    case 'jpg':\n",
    "        print(f'image/jpeg')\n",
    "    case 'jpeg':\n",
    "        print(f'image/jpeg')\n",
    "    case 'png':\n",
    "        print(f'image/png')\n",
    "    case 'pdf':\n",
    "        print(f'application/pdf')\n",
    "    case 'txt':\n",
    "        print(f'text/plain')\n",
    "    case 'zip':\n",
    "        print(f'application/zip')\n",
    "    case __:\n",
    "        print('application/octet-stream')\n"
   ]
  },
  {
   "cell_type": "code",
   "execution_count": 11,
   "metadata": {},
   "outputs": [
    {
     "name": "stdout",
     "output_type": "stream",
     "text": [
      "5.0\n"
     ]
    }
   ],
   "source": [
    "#Interpreter\n",
    "expression = input('input expression ').strip().lower()\n",
    "x, y, z = expression.split(\" \")\n",
    "x = float(x)\n",
    "z = float(z)\n",
    "\n",
    "if z == 0 and y == '/':\n",
    "    print(\"can't divede by 0\")\n",
    "else:\n",
    "    if y == '/':\n",
    "        print (f\"{x / z:.1f}\")\n",
    "    elif y == '+':\n",
    "        print (f\"{x + z:.1f}\")\n",
    "    elif y == '*':\n",
    "        print (f\"{x * z:.1f}\")\n",
    "    elif y == '-':\n",
    "        print (f\"{x - z:.1f}\")\n"
   ]
  },
  {
   "cell_type": "code",
   "execution_count": 13,
   "metadata": {},
   "outputs": [
    {
     "name": "stdout",
     "output_type": "stream",
     "text": [
      "breakfast time\n"
     ]
    }
   ],
   "source": [
    "#Meal\n",
    "def main():\n",
    "    time = input('Input time ')\n",
    "    time_convert = convert(time)\n",
    "    if 7 <= time_convert <= 8:\n",
    "        print(\"breakfast time\")\n",
    "    if 12<=time_convert<=13:\n",
    "        print(\"lunch time \")\n",
    "    if 18<=time_convert<=19:\n",
    "        print(\"dinner time\")\n",
    "\n",
    "\n",
    "def convert(time):\n",
    "    if 'a.m' in time or \"p.m\" in time:\n",
    "        time = time.split()\n",
    "        if time[1] == 'a.m.':\n",
    "            time = time[0].split(\":\")\n",
    "            minutes = float(time[1]) / 60\n",
    "            hours = float(time[0])\n",
    "            return minutes + hours\n",
    "        else:\n",
    "            time = time[0].split(\":\")\n",
    "            minutes = float(time[1]) / 60\n",
    "            hours = float(time[0])\n",
    "            return minutes + hours\n",
    "    else:\n",
    "        time = time.split(\":\")\n",
    "        minutes = float(time[1]) / 60\n",
    "        hours = float(time[0])\n",
    "        return minutes + hours\n",
    "\n",
    "\n",
    "if __name__ == \"__main__\":\n",
    "    main()\n"
   ]
  },
  {
   "cell_type": "markdown",
   "metadata": {},
   "source": [
    "## Problem set 2"
   ]
  },
  {
   "cell_type": "code",
   "execution_count": 6,
   "metadata": {},
   "outputs": [
    {
     "name": "stdout",
     "output_type": "stream",
     "text": [
      "first_name"
     ]
    }
   ],
   "source": [
    "#Camel\n",
    "\n",
    "s = input('Input text')\n",
    "\n",
    "for c in s:\n",
    "    if c.isupper():\n",
    "        c = c.lower()\n",
    "        print('_', end=\"\")\n",
    "    print(c, end=\"\")\n"
   ]
  },
  {
   "cell_type": "code",
   "execution_count": 51,
   "metadata": {},
   "outputs": [
    {
     "name": "stdout",
     "output_type": "stream",
     "text": [
      "12345\n",
      "2 3 1345\n",
      "2 5 135\n",
      "1 1 35\n",
      "2 1 5\n",
      "5\n"
     ]
    }
   ],
   "source": [
    "n = int(input(\"input n\"))\n",
    "k = int(input(\"input k\"))\n",
    "i = k\n",
    "\n",
    "string = list(range(1, n+1))\n",
    "string = \"\".join(map(str,string))\n",
    "\n",
    "print(string)\n",
    "while len(string) != 1:\n",
    "    if i > len(string): \n",
    "        i = i - len(string) - 1\n",
    "        string = string.replace(string[i - 1], '')\n",
    "        i = i + i - 1\n",
    "        print('1', i, string)\n",
    "    else:\n",
    "        string = string.replace(string[i - 1], '')\n",
    "        i = i + i - 1\n",
    "        print('2', i, string)\n",
    "print(string)"
   ]
  },
  {
   "cell_type": "code",
   "execution_count": null,
   "metadata": {},
   "outputs": [],
   "source": [
    "12345\n",
    "1345\n",
    "135\n",
    "35\n",
    "3"
   ]
  },
  {
   "cell_type": "code",
   "execution_count": 16,
   "metadata": {},
   "outputs": [
    {
     "name": "stdout",
     "output_type": "stream",
     "text": [
      "Amount Due: 50\n",
      "Amount Due: 50\n",
      "Amount Due: 50\n",
      "Amount Due: 50\n",
      "Amount Due: 50\n",
      "Amount Due: 25\n",
      "Change Owed: 0\n"
     ]
    }
   ],
   "source": [
    "#Coke\n",
    "\n",
    "amount_due = 50\n",
    "print (f\"Amount Due: {amount_due}\")\n",
    "while amount_due > 0:\n",
    "    user_input = input(\"Imput number: \") or \"0\"\n",
    "    input_money = int(user_input)\n",
    "    if input_money == 25 or input_money == 10 or input_money == 5:\n",
    "        amount_due = amount_due - input_money\n",
    "        if amount_due <= 0:\n",
    "            print (f\"Change Owed: {amount_due * (-1)}\")\n",
    "            break\n",
    "        print (f\"Amount Due: {amount_due}\")\n",
    "    else:\n",
    "        print (f\"Amount Due: {amount_due}\")\n"
   ]
  },
  {
   "cell_type": "code",
   "execution_count": 20,
   "metadata": {},
   "outputs": [
    {
     "name": "stdout",
     "output_type": "stream",
     "text": [
      "Lg"
     ]
    }
   ],
   "source": [
    "#Twttr\n",
    "\n",
    "user_input = input(\"Input text: \")\n",
    "\n",
    "for c in user_input:\n",
    "    match c:\n",
    "        case \"a\" | \"e\" | \"i\" | \"o\" | \"u\" | \"A\" | \"E\" | \"I\" | \"O\" | \"U\":\n",
    "            print (\"\", end=\"\")\n",
    "        case _:\n",
    "            print (c, end=\"\")"
   ]
  },
  {
   "cell_type": "code",
   "execution_count": null,
   "metadata": {},
   "outputs": [
    {
     "name": "stdout",
     "output_type": "stream",
     "text": [
      "5\n",
      "check_2\n",
      "0\n",
      "check_2\n",
      "Invalid\n"
     ]
    }
   ],
   "source": [
    "#Plates\n",
    "\n",
    "def main():\n",
    "    plate = input(\"Plate: \")\n",
    "    if is_valid(plate):\n",
    "        print(\"Valid\")\n",
    "    else:\n",
    "        print(\"Invalid\")\n",
    "\n",
    "\n",
    "def is_valid(s):\n",
    "    if s[0:2].isalpha():\n",
    "        if 2 <= len(s) <= 6:\n",
    "            if s.isalnum():\n",
    "                first_0 = 0\n",
    "                number = False\n",
    "                for c in s:\n",
    "                    if c.isalpha():\n",
    "                        symbol = True\n",
    "                    if c.isnumeric():\n",
    "                        number = True\n",
    "                        if c == \"0\" and first_0 == 0:\n",
    "                            return False\n",
    "                        first_0 += 1\n",
    "                        symbol = False\n",
    "                    if number and symbol:\n",
    "                        return False\n",
    "                return True\n",
    "\n",
    "main()\n"
   ]
  },
  {
   "cell_type": "code",
   "execution_count": 51,
   "metadata": {},
   "outputs": [
    {
     "name": "stdout",
     "output_type": "stream",
     "text": [
      "Caloric content of apple: 130\n"
     ]
    }
   ],
   "source": [
    "fruit_calories = {\n",
    "    \"apple\": 130,\n",
    "    \"avocado\": 50,\n",
    "    \"banana\": 110,\n",
    "    \"cantaloupe\": 50,\n",
    "    \"grapefruit\": 60,\n",
    "    \"grapes\": 90,\n",
    "    \"honeydew melon\": 50,\n",
    "    \"kiwifruit\": 90,\n",
    "    \"lemon\": 15,\n",
    "    \"lime\": 20,\n",
    "    \"nectarine\": 60,\n",
    "    \"orange\": 80,\n",
    "    \"peach\": 60,\n",
    "    \"pear\": 100,\n",
    "    \"pineapple\": 50,\n",
    "    \"plums\": 70,\n",
    "    \"strawberries\": 50,\n",
    "    \"sweet cherries\": 100,\n",
    "    \"tangerine\": 50,\n",
    "    \"watermelon\": 80\n",
    "}\n",
    "\n",
    "input_fruit = input(\"Input fruit\")\n",
    "if input_fruit.lower() in fruit_calories.keys():\n",
    "    print(f\"Caloric content of {input_fruit}: {fruit_calories.get(input_fruit.lower())}\")\n"
   ]
  },
  {
   "cell_type": "markdown",
   "metadata": {},
   "source": [
    "## Problem set 3"
   ]
  },
  {
   "cell_type": "code",
   "execution_count": null,
   "metadata": {},
   "outputs": [],
   "source": [
    "#Fuel gauge\n",
    "def main():\n",
    "    fuel = convert_fuel(input('Fraction: '))\n",
    "    if fuel <= 1:\n",
    "        print('E')\n",
    "    elif fuel >= 99:\n",
    "        print('F')\n",
    "    else:\n",
    "        print(f'{fuel}%')\n",
    "\n",
    "\n",
    "def convert_fuel(x):\n",
    "    while True:\n",
    "        try:\n",
    "            x = x.split('/')\n",
    "            x = [int(i) for i in x]\n",
    "            if x[0] > x[1]:\n",
    "                raise ValueError\n",
    "            return (round(x[0] / x[1] * 100))\n",
    "        except (ValueError, ZeroDivisionError):    \n",
    "            x = input('Fraction: ')\n",
    "\n",
    "\n",
    "main()"
   ]
  },
  {
   "cell_type": "code",
   "execution_count": null,
   "metadata": {},
   "outputs": [],
   "source": [
    "#Felipe’s Taqueria\n",
    "\n",
    "dict = {\n",
    "    \"Baja Taco\": 4.25,\n",
    "    \"Burrito\": 7.50,\n",
    "    \"Bowl\": 8.50,\n",
    "    \"Nachos\": 11.00,\n",
    "    \"Quesadilla\": 8.50,\n",
    "    \"Super Burrito\": 8.50,\n",
    "    \"Super Quesadilla\": 9.50,\n",
    "    \"Taco\": 3.00,\n",
    "    \"Tortilla Salad\": 8.00\n",
    "}\n",
    "\n",
    "\n",
    "total = 0\n",
    "\n",
    "while True:\n",
    "    try:\n",
    "        x = input('Item: ').title()\n",
    "        if x in dict:\n",
    "            total += dict.get(x)\n",
    "            print(f'Total: ${total:.2f}')\n",
    "    except KeyError:\n",
    "        print('\\n')\n",
    "        break\n",
    "    except EOFError:\n",
    "        print('\\n')\n",
    "        break"
   ]
  },
  {
   "cell_type": "code",
   "execution_count": null,
   "metadata": {},
   "outputs": [
    {
     "name": "stdout",
     "output_type": "stream",
     "text": [
      "1636-09-08\n"
     ]
    }
   ],
   "source": [
    "#Outdated\n",
    "\n",
    "months = [\n",
    "    \"January\",\n",
    "    \"February\",\n",
    "    \"March\",\n",
    "    \"April\",\n",
    "    \"May\",\n",
    "    \"June\",\n",
    "    \"July\",\n",
    "    \"August\",\n",
    "    \"September\",\n",
    "    \"October\",\n",
    "    \"November\",\n",
    "    \"December\"\n",
    "]\n",
    "\n",
    "\n",
    "def main():\n",
    "    date()\n",
    "\n",
    "\n",
    "def date():\n",
    "    while True:\n",
    "        try:\n",
    "            x = input('Date: ').strip()\n",
    "            if x.rfind('/') > 0:\n",
    "                x = x.split('/')\n",
    "                if int(x[0]) > 12 or int(x[1]) > 31:\n",
    "                    raise ValueError\n",
    "                print(f'{x[2]}-{int(x[0]):02}-{int(x[1]):02}')\n",
    "                break\n",
    "            else:\n",
    "                y = x.split(' ')\n",
    "                if y[1].find(',') == -1:\n",
    "                    raise ValueError\n",
    "                y[1] = int(y[1].replace(',', ''))\n",
    "                if y[1] > 31:\n",
    "                    raise ValueError\n",
    "                month = y[0]\n",
    "                if y[0] in months:\n",
    "                    print(f'{y[2]}-{months.index(month) + 1:02}-{int(y[1]):02}')\n",
    "                    break\n",
    "        except (KeyError, ValueError):\n",
    "            x = input('Date: ').strip()\n",
    "\n",
    "if __name__=='__main__':\n",
    "    main()\n"
   ]
  },
  {
   "cell_type": "code",
   "execution_count": null,
   "metadata": {},
   "outputs": [],
   "source": [
    "#Grocery list\n",
    "\n",
    "\n",
    "grocery_list ={}\n",
    "\n",
    "while True:\n",
    "    try:\n",
    "        item = input()\n",
    "        if item in grocery_list:\n",
    "            grocery_list[item] += 1\n",
    "        else:\n",
    "            grocery_list[item] = 1\n",
    "    except (EOFError):\n",
    "        sorted_grocery_list = dict(sorted(grocery_list.items()))\n",
    "        for key, value in sorted_grocery_list.items():\n",
    "            print(value, key.upper())\n",
    "        break\n",
    "    except (KeyError):\n",
    "        item = input()\n",
    "\n"
   ]
  },
  {
   "cell_type": "markdown",
   "metadata": {},
   "source": [
    "## Problem set 4"
   ]
  },
  {
   "cell_type": "code",
   "execution_count": null,
   "metadata": {},
   "outputs": [
    {
     "ename": "ModuleNotFoundError",
     "evalue": "No module named 'emoji'",
     "output_type": "error",
     "traceback": [
      "\u001b[1;31m---------------------------------------------------------------------------\u001b[0m",
      "\u001b[1;31mModuleNotFoundError\u001b[0m                       Traceback (most recent call last)",
      "Cell \u001b[1;32mIn[1], line 3\u001b[0m\n\u001b[0;32m      1\u001b[0m \u001b[38;5;66;03m#emojize\u001b[39;00m\n\u001b[1;32m----> 3\u001b[0m \u001b[38;5;28;01mimport\u001b[39;00m \u001b[38;5;21;01memoji\u001b[39;00m\n\u001b[0;32m      5\u001b[0m \u001b[38;5;28mprint\u001b[39m(emoji\u001b[38;5;241m.\u001b[39memojize(\u001b[38;5;28minput\u001b[39m(\u001b[38;5;124m'\u001b[39m\u001b[38;5;124m'\u001b[39m)))\n",
      "\u001b[1;31mModuleNotFoundError\u001b[0m: No module named 'emoji'"
     ]
    }
   ],
   "source": [
    "#emojize\n",
    "\n",
    "import emoji\n",
    "\n",
    "print(emoji.emojize(input(''), language='alias'))\n"
   ]
  },
  {
   "cell_type": "code",
   "execution_count": null,
   "metadata": {},
   "outputs": [],
   "source": [
    "#figlet\n",
    "\n",
    "import sys\n",
    "from pyfiglet import Figlet\n",
    "import random\n",
    "\n",
    "args = sys.argv[1:]\n",
    "default_figlet = Figlet()\n",
    "\n",
    "if len(args) == 0:\n",
    "    font = random.choice(default_figlet.getFonts())\n",
    "elif len(args) == 2 and args[0] in [\"-f\", \"--font\"] and args[1] in default_figlet.getFonts():\n",
    "    font = args[1]\n",
    "else:\n",
    "    print(\"Invalid usage\", end=\"\")\n",
    "    sys.exit(1)\n",
    "\n",
    "figlet = Figlet(font=font)\n",
    "text = input().strip()\n",
    "print(figlet.renderText(text), end=\"\")\n"
   ]
  }
 ],
 "metadata": {
  "kernelspec": {
   "display_name": "base",
   "language": "python",
   "name": "python3"
  },
  "language_info": {
   "codemirror_mode": {
    "name": "ipython",
    "version": 3
   },
   "file_extension": ".py",
   "mimetype": "text/x-python",
   "name": "python",
   "nbconvert_exporter": "python",
   "pygments_lexer": "ipython3",
   "version": "3.12.3"
  }
 },
 "nbformat": 4,
 "nbformat_minor": 2
}
