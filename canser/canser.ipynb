{
 "cells": [
  {
   "cell_type": "code",
   "execution_count": 52,
   "metadata": {},
   "outputs": [],
   "source": [
    "import numpy as np \n",
    "import matplotlib.pyplot as plt \n",
    "import pandas as pd \n",
    "from pandas import DataFrame, Series\n",
    "import statsmodels.formula.api as sm\n",
    "import matplotlib.pyplot as plt\n",
    "from scipy.stats import kurtosis\n"
   ]
  },
  {
   "cell_type": "code",
   "execution_count": 53,
   "metadata": {},
   "outputs": [],
   "source": [
    "df = pd.read_csv('cancer.csv')"
   ]
  },
  {
   "cell_type": "code",
   "execution_count": 61,
   "metadata": {},
   "outputs": [
    {
     "name": "stdout",
     "output_type": "stream",
     "text": [
      "   Class  age  menopause  tumor-size  inv-nodes  node-caps  deg-malig  breast  \\\n",
      "0      0    5          1           1          1          2          1       3   \n",
      "1      0    5          4           4          5          7         10       3   \n",
      "2      0    3          1           1          1          2          2       3   \n",
      "3      0    6          8           8          1          3          4       3   \n",
      "4      0    4          1           1          3          2          1       3   \n",
      "\n",
      "   breast-quad  irradiat  \n",
      "0            1         1  \n",
      "1            2         1  \n",
      "2            1         1  \n",
      "3            7         1  \n",
      "4            1         1  \n"
     ]
    }
   ],
   "source": [
    "print(df.head(5))"
   ]
  },
  {
   "cell_type": "code",
   "execution_count": 55,
   "metadata": {},
   "outputs": [
    {
     "name": "stdout",
     "output_type": "stream",
     "text": [
      "<class 'pandas.core.frame.DataFrame'>\n",
      "RangeIndex: 683 entries, 0 to 682\n",
      "Data columns (total 10 columns):\n",
      " #   Column       Non-Null Count  Dtype\n",
      "---  ------       --------------  -----\n",
      " 0   Class        683 non-null    int64\n",
      " 1   age          683 non-null    int64\n",
      " 2   menopause    683 non-null    int64\n",
      " 3   tumor-size   683 non-null    int64\n",
      " 4   inv-nodes    683 non-null    int64\n",
      " 5   node-caps    683 non-null    int64\n",
      " 6   deg-malig    683 non-null    int64\n",
      " 7   breast       683 non-null    int64\n",
      " 8   breast-quad  683 non-null    int64\n",
      " 9   irradiat     683 non-null    int64\n",
      "dtypes: int64(10)\n",
      "memory usage: 53.5 KB\n",
      "DataFrame Info: None\n",
      "\n",
      "Memory usage\n",
      " Index          0.000126\n",
      "Class          0.005211\n",
      "age            0.005211\n",
      "menopause      0.005211\n",
      "tumor-size     0.005211\n",
      "inv-nodes      0.005211\n",
      "node-caps      0.005211\n",
      "deg-malig      0.005211\n",
      "breast         0.005211\n",
      "breast-quad    0.005211\n",
      "irradiat       0.005211\n",
      "dtype: float64\n",
      "\n",
      "First 4 rows of the DataFrame:\n",
      "    Class  age  menopause  tumor-size  inv-nodes  node-caps  deg-malig  breast  \\\n",
      "0      0    5          1           1          1          2          1       3   \n",
      "1      0    5          4           4          5          7         10       3   \n",
      "2      0    3          1           1          1          2          2       3   \n",
      "3      0    6          8           8          1          3          4       3   \n",
      "\n",
      "   breast-quad  irradiat  \n",
      "0            1         1  \n",
      "1            2         1  \n",
      "2            1         1  \n",
      "3            7         1  \n",
      "\n",
      "Summary statistics of the DataFrame:\n",
      "             Class         age   menopause  tumor-size   inv-nodes   node-caps  \\\n",
      "count  683.000000  683.000000  683.000000  683.000000  683.000000  683.000000   \n",
      "mean     0.349927    4.442167    3.150805    3.215227    2.830161    3.234261   \n",
      "std      0.477296    2.820761    3.065145    2.988581    2.864562    2.223085   \n",
      "min      0.000000    1.000000    1.000000    1.000000    1.000000    1.000000   \n",
      "25%      0.000000    2.000000    1.000000    1.000000    1.000000    2.000000   \n",
      "50%      0.000000    4.000000    1.000000    1.000000    1.000000    2.000000   \n",
      "75%      1.000000    6.000000    5.000000    5.000000    4.000000    4.000000   \n",
      "max      1.000000   10.000000   10.000000   10.000000   10.000000   10.000000   \n",
      "\n",
      "        deg-malig      breast  breast-quad    irradiat  \n",
      "count  683.000000  683.000000   683.000000  683.000000  \n",
      "mean     3.544656    3.445095     2.869693    1.603221  \n",
      "std      3.643857    2.449697     3.052666    1.732674  \n",
      "min      1.000000    1.000000     1.000000    1.000000  \n",
      "25%      1.000000    2.000000     1.000000    1.000000  \n",
      "50%      1.000000    3.000000     1.000000    1.000000  \n",
      "75%      6.000000    5.000000     4.000000    1.000000  \n",
      "max     10.000000   10.000000    10.000000   10.000000  \n"
     ]
    }
   ],
   "source": [
    "print(\"DataFrame Info:\", df.info()) # index & data types\n",
    "\n",
    "print(\"\\nMemory usage\\n\", df.memory_usage(deep=True) / 1024 ** 2)\n",
    "\n",
    "n = 4\n",
    "dfh = df.head(n) # get first n rows\n",
    "print(f\"\\nFirst {n} rows of the DataFrame:\\n\", dfh)\n",
    "\n",
    "\n",
    "dfs = df.describe() # summary stats cols\n",
    "print(\"\\nSummary statistics of the DataFrame:\\n\", dfs)\n"
   ]
  },
  {
   "cell_type": "code",
   "execution_count": 56,
   "metadata": {},
   "outputs": [
    {
     "name": "stdout",
     "output_type": "stream",
     "text": [
      "     Class    age  menopause  tumor-size  inv-nodes  node-caps  deg-malig  \\\n",
      "0    222.5  436.5      187.0       173.5      197.0      232.5      201.5   \n",
      "1    222.5  436.5      489.5       479.0      554.0      624.0      617.5   \n",
      "2    222.5  241.5      187.0       173.5      197.0      232.5      417.5   \n",
      "3    222.5  517.0      596.5       605.0      197.0      456.0      470.0   \n",
      "4    222.5  333.0      187.0       173.5      480.5      232.5      201.5   \n",
      "..     ...    ...        ...         ...        ...        ...        ...   \n",
      "678  222.5  241.5      187.0       173.5      197.0      456.0      417.5   \n",
      "679  222.5  164.5      187.0       173.5      197.0      232.5      201.5   \n",
      "680  564.0  436.5      650.0       654.5      480.5      624.0      446.5   \n",
      "681  564.0  333.0      596.5       547.0      526.0      456.0      470.0   \n",
      "682  564.0  333.0      596.5       605.0      554.0      515.5      494.5   \n",
      "\n",
      "     breast  breast-quad  irradiat  \n",
      "0     391.0        216.5     282.0  \n",
      "1     391.0        450.5     282.0  \n",
      "2     391.0        216.5     282.0  \n",
      "3     391.0        577.5     282.0  \n",
      "4     391.0        216.5     282.0  \n",
      "..      ...          ...       ...  \n",
      "678    75.5        216.5     282.0  \n",
      "679    75.5        216.5     282.0  \n",
      "680   638.5        653.5     581.0  \n",
      "681   673.5        558.5     282.0  \n",
      "682   673.5        519.5     282.0  \n",
      "\n",
      "[683 rows x 10 columns]\n"
     ]
    }
   ],
   "source": [
    "dfc = df.copy() # copy a DataFrame\n",
    "dfr = df.rank() # rank each col (default)\n",
    "\n",
    "print (dfr)"
   ]
  },
  {
   "cell_type": "code",
   "execution_count": 60,
   "metadata": {},
   "outputs": [
    {
     "data": {
      "image/png": "[encoded data removed]",
      "text/plain": [
       "<Figure size 1200x600 with 1 Axes>"
      ]
     },
     "metadata": {},
     "output_type": "display_data"
    }
   ],
   "source": [
    "\n",
    "# Данные\n",
    "\n",
    "s = df['age']\n",
    "# Эксцессы\n",
    "kurt1 = kurtosis(s, fisher=True)  # Нормальное\n",
    "\n",
    "# Графики\n",
    "plt.figure(figsize=(12, 6))\n",
    "\n",
    "# Нормальное распределение\n",
    "plt.plot()\n",
    "plt.hist(s, bins=30, alpha=0.7, color='blue', edgecolor='black')\n",
    "plt.title(f'Нормальное распределение\\nЭксцесс = {kurt1:.2f}')\n",
    "\n",
    "plt.tight_layout()\n",
    "plt.show()\n"
   ]
  },
  {
   "cell_type": "code",
   "execution_count": 63,
   "metadata": {},
   "outputs": [
    {
     "name": "stdout",
     "output_type": "stream",
     "text": [
      "Коэффициенты модели:\n",
      "Intercept    0.990695\n",
      "col2         4.542359\n",
      "col3         0.142957\n",
      "dtype: float64\n",
      "\n",
      "Сводка модели:\n",
      "                            OLS Regression Results                            \n",
      "==============================================================================\n",
      "Dep. Variable:                   col1   R-squared:                       0.684\n",
      "Model:                            OLS   Adj. R-squared:                  0.683\n",
      "Method:                 Least Squares   F-statistic:                     737.3\n",
      "Date:                Thu, 16 Jan 2025   Prob (F-statistic):          5.04e-171\n",
      "Time:                        14:47:05   Log-Likelihood:                -1322.5\n",
      "No. Observations:                 683   AIC:                             2651.\n",
      "Df Residuals:                     680   BIC:                             2665.\n",
      "Df Model:                           2                                         \n",
      "Covariance Type:            nonrobust                                         \n",
      "==============================================================================\n",
      "                 coef    std err          t      P>|t|      [0.025      0.975]\n",
      "------------------------------------------------------------------------------\n",
      "Intercept      0.9907      0.125      7.900      0.000       0.744       1.237\n",
      "col2           4.5424      0.193     23.550      0.000       4.164       4.921\n",
      "col3           0.1430      0.033      4.380      0.000       0.079       0.207\n",
      "==============================================================================\n",
      "Omnibus:                       25.920   Durbin-Watson:                   1.969\n",
      "Prob(Omnibus):                  0.000   Jarque-Bera (JB):               50.988\n",
      "Skew:                           0.224   Prob(JB):                     8.47e-12\n",
      "Kurtosis:                       4.262   Cond. No.                         16.6\n",
      "==============================================================================\n",
      "\n",
      "Notes:\n",
      "[1] Standard Errors assume that the covariance matrix of the errors is correctly specified.\n"
     ]
    }
   ],
   "source": [
    "col1 = df['tumor-size']\n",
    "col2 = df['Class']\n",
    "col3 = df['age']\n",
    "\n",
    "# Создание и обучение модели\n",
    "result = sm.ols(formula=\"col1 ~ col2 + col3\", data=df).fit()\n",
    "\n",
    "# Коэффициенты\n",
    "print(\"Коэффициенты модели:\")\n",
    "print(result.params)\n",
    "\n",
    "# Сводка\n",
    "print(\"\\nСводка модели:\")\n",
    "print(result.summary())\n"
   ]
  },
  {
   "cell_type": "code",
   "execution_count": 67,
   "metadata": {},
   "outputs": [
    {
     "name": "stdout",
     "output_type": "stream",
     "text": [
      "Количество в каждом бине: [139  50 104  79 128  33  23  44  14  69]\n",
      "Границы бинов: [ 1.   1.9  2.8  3.7  4.6  5.5  6.4  7.3  8.2  9.1 10. ]\n"
     ]
    }
   ],
   "source": [
    "count, bins = np.histogram(df['age'])\n",
    "\n",
    "print(\"Количество в каждом бине:\", count)\n",
    "print(\"Границы бинов:\", bins)\n",
    "\n",
    "# count, bins = np.histogram(df['age'],\n",
    "#  bins=5)\n",
    "# count, bins = np.histogram(df['col1'], \n",
    "#  bins=[-3,-2,-1,0,1,2,3,4])"
   ]
  },
  {
   "cell_type": "code",
   "execution_count": null,
   "metadata": {},
   "outputs": [],
   "source": []
  }
 ],
 "metadata": {
  "kernelspec": {
   "display_name": "base",
   "language": "python",
   "name": "python3"
  },
  "language_info": {
   "codemirror_mode": {
    "name": "ipython",
    "version": 3
   },
   "file_extension": ".py",
   "mimetype": "text/x-python",
   "name": "python",
   "nbconvert_exporter": "python",
   "pygments_lexer": "ipython3",
   "version": "3.12.3"
  }
 },
 "nbformat": 4,
 "nbformat_minor": 2
}
